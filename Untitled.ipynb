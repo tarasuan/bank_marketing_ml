{
 "cells": [
  {
   "cell_type": "code",
   "execution_count": 1,
   "metadata": {
    "collapsed": false
   },
   "outputs": [
    {
     "data": {
      "text/plain": [
       "u'/Users/tarasuan/Development/bank'"
      ]
     },
     "execution_count": 1,
     "metadata": {},
     "output_type": "execute_result"
    }
   ],
   "source": [
    "pwd"
   ]
  },
  {
   "cell_type": "code",
   "execution_count": 2,
   "metadata": {
    "collapsed": false
   },
   "outputs": [
    {
     "name": "stdout",
     "output_type": "stream",
     "text": [
      "[Errno 2] No such file or directory: 'Development'\n",
      "/Users/tarasuan/Development/bank\n"
     ]
    }
   ],
   "source": [
    "cd Development"
   ]
  },
  {
   "cell_type": "code",
   "execution_count": 3,
   "metadata": {
    "collapsed": false
   },
   "outputs": [
    {
     "ename": "SyntaxError",
     "evalue": "invalid syntax (<ipython-input-3-ca3509477f7f>, line 1)",
     "output_type": "error",
     "traceback": [
      "\u001b[0;36m  File \u001b[0;32m\"<ipython-input-3-ca3509477f7f>\"\u001b[0;36m, line \u001b[0;32m1\u001b[0m\n\u001b[0;31m    ..\u001b[0m\n\u001b[0m    ^\u001b[0m\n\u001b[0;31mSyntaxError\u001b[0m\u001b[0;31m:\u001b[0m invalid syntax\n"
     ]
    }
   ],
   "source": [
    ".."
   ]
  },
  {
   "cell_type": "code",
   "execution_count": 4,
   "metadata": {
    "collapsed": false
   },
   "outputs": [
    {
     "name": "stdout",
     "output_type": "stream",
     "text": [
      "/Users/tarasuan/Development\n"
     ]
    }
   ],
   "source": [
    "cd .."
   ]
  },
  {
   "cell_type": "code",
   "execution_count": 5,
   "metadata": {
    "collapsed": false
   },
   "outputs": [
    {
     "name": "stdout",
     "output_type": "stream",
     "text": [
      "2008_BSA_PD_Events_PUF_DataDic_CB 2.pdf\r\n",
      "2008_BSA_PD_Events_PUF_DataDic_CB.pdf\r\n",
      "\u001b[1m\u001b[36mEducation\u001b[m\u001b[m/\r\n",
      "\u001b[1m\u001b[36mGA Data Science\u001b[m\u001b[m/\r\n",
      "Lessons for new Pandas usrs.ipynb\r\n",
      "Orange tutorial .ipynb\r\n",
      "\u001b[1m\u001b[36mPima diabetes\u001b[m\u001b[m/\r\n",
      "\u001b[1m\u001b[36mProjects\u001b[m\u001b[m/\r\n",
      "Python for Data Analysis Example.ipynb\r\n",
      "Python for Data Science workbook.ipynb\r\n",
      "Python4DataScienceIntro.ipynb\r\n",
      "\u001b[1m\u001b[36mR_Census\u001b[m\u001b[m/\r\n",
      "\u001b[1m\u001b[36mRlesson\u001b[m\u001b[m/\r\n",
      "\u001b[1m\u001b[36mSols\u001b[m\u001b[m/\r\n",
      "Untitled.ipynb\r\n",
      "\u001b[1m\u001b[36mbank\u001b[m\u001b[m/\r\n",
      "\u001b[1m\u001b[36mcoursera-ml-ng\u001b[m\u001b[m/\r\n",
      "\u001b[1m\u001b[36mcoursera-stats\u001b[m\u001b[m/\r\n",
      "\u001b[1m\u001b[36mdata\u001b[m\u001b[m/\r\n",
      "foods-2011-10-03.json\r\n",
      "\u001b[1m\u001b[36mfunemployed\u001b[m\u001b[m/\r\n",
      "naive_bayes_tweets_for_contest.py\r\n",
      "national.stem.pct.png\r\n",
      "national.stem.prev.pct.png\r\n",
      "natl.stem.pct.png\r\n",
      "notes on tensorflow workshop\r\n",
      "result.json\r\n",
      "\u001b[1m\u001b[36msample sql data\u001b[m\u001b[m/\r\n",
      "sample.json\r\n",
      "\u001b[1m\u001b[36mtensorflow-workshop-master\u001b[m\u001b[m/\r\n",
      "\u001b[1m\u001b[36mwordpress (local)\u001b[m\u001b[m/\r\n"
     ]
    }
   ],
   "source": [
    "ls"
   ]
  },
  {
   "cell_type": "code",
   "execution_count": 7,
   "metadata": {
    "collapsed": false
   },
   "outputs": [
    {
     "name": "stderr",
     "output_type": "stream",
     "text": [
      "UsageError: %%bash is a cell magic, but the cell body is empty.\n"
     ]
    }
   ],
   "source": [
    "%%bash head sample.json"
   ]
  },
  {
   "cell_type": "code",
   "execution_count": null,
   "metadata": {
    "collapsed": true
   },
   "outputs": [],
   "source": []
  }
 ],
 "metadata": {
  "kernelspec": {
   "display_name": "Python [conda root]",
   "language": "python",
   "name": "conda-root-py"
  },
  "language_info": {
   "codemirror_mode": {
    "name": "ipython",
    "version": 2
   },
   "file_extension": ".py",
   "mimetype": "text/x-python",
   "name": "python",
   "nbconvert_exporter": "python",
   "pygments_lexer": "ipython2",
   "version": "2.7.12"
  }
 },
 "nbformat": 4,
 "nbformat_minor": 2
}
